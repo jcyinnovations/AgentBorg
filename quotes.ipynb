{
 "cells": [
  {
   "cell_type": "code",
   "execution_count": 2,
   "id": "b49d13ed",
   "metadata": {},
   "outputs": [],
   "source": [
    "from bfxapi import Client"
   ]
  },
  {
   "cell_type": "code",
   "execution_count": 3,
   "id": "cefacc7e",
   "metadata": {},
   "outputs": [],
   "source": [
    "from datetime import datetime, timezone"
   ]
  },
  {
   "cell_type": "code",
   "execution_count": 4,
   "id": "0d6d820f",
   "metadata": {},
   "outputs": [],
   "source": [
    "bfx = Client()"
   ]
  },
  {
   "cell_type": "code",
   "execution_count": 5,
   "id": "cb141674",
   "metadata": {},
   "outputs": [],
   "source": [
    "start = '1704145260000'"
   ]
  },
  {
   "cell_type": "code",
   "execution_count": 6,
   "id": "ca5368ac",
   "metadata": {},
   "outputs": [],
   "source": [
    "candles = bfx.rest.public.get_candles_hist(symbol='tBTCUSD', start='1704145260000')"
   ]
  },
  {
   "cell_type": "code",
   "execution_count": 7,
   "id": "08ceac77",
   "metadata": {},
   "outputs": [],
   "source": [
    "for candle in candles:\n",
    "    print(type(candle.mts), candle.mts)\n",
    "    "
   ]
  },
  {
   "cell_type": "code",
   "execution_count": 8,
   "id": "94b1f69b",
   "metadata": {},
   "outputs": [],
   "source": [
    "import pendulum"
   ]
  },
  {
   "cell_type": "code",
   "execution_count": 9,
   "id": "cc1f690a",
   "metadata": {},
   "outputs": [],
   "source": [
    "pip install pendulum"
   ]
  },
  {
   "cell_type": "code",
   "execution_count": 10,
   "id": "9f35dd04",
   "metadata": {},
   "outputs": [],
   "source": [
    "clear"
   ]
  },
  {
   "cell_type": "code",
   "execution_count": 11,
   "id": "69758c63",
   "metadata": {},
   "outputs": [],
   "source": [
    "import pendulum"
   ]
  },
  {
   "cell_type": "code",
   "execution_count": 12,
   "id": "c8eb9508",
   "metadata": {},
   "outputs": [],
   "source": [
    "for candle in candles:\n",
    "    print(pendulum.from_timestamp(cande.mts))\n",
    "    "
   ]
  },
  {
   "cell_type": "code",
   "execution_count": 13,
   "id": "2af12587",
   "metadata": {},
   "outputs": [],
   "source": [
    "for candle in candles:\n",
    "    print(pendulum.from_timestamp(candle.mts))\n",
    "    "
   ]
  },
  {
   "cell_type": "code",
   "execution_count": 14,
   "id": "43d09116",
   "metadata": {},
   "outputs": [],
   "source": [
    "for candle in candles:\n",
    "    print(pendulum.from_timestamp(candle.mts/1000))\n",
    "    "
   ]
  },
  {
   "cell_type": "code",
   "execution_count": 15,
   "id": "114b4576",
   "metadata": {},
   "outputs": [],
   "source": [
    "clear"
   ]
  },
  {
   "cell_type": "code",
   "execution_count": 16,
   "id": "9aac4761",
   "metadata": {},
   "outputs": [],
   "source": [
    "pendulum.from_timestamp(1704145260)"
   ]
  },
  {
   "cell_type": "code",
   "execution_count": 17,
   "id": "03b2977a",
   "metadata": {},
   "outputs": [],
   "source": [
    "end = str(int(datetime.now(timezone.utc).timestamp() ) * 1000)"
   ]
  },
  {
   "cell_type": "code",
   "execution_count": 18,
   "id": "54b900b8",
   "metadata": {},
   "outputs": [],
   "source": [
    "end"
   ]
  },
  {
   "cell_type": "code",
   "execution_count": 19,
   "id": "1ee6f246",
   "metadata": {},
   "outputs": [],
   "source": [
    "candles = bfx.rest.public.get_candles_hist(symbol='tBTCUSD', start='1704145260000', end=end)"
   ]
  },
  {
   "cell_type": "code",
   "execution_count": 20,
   "id": "9b420dd0",
   "metadata": {},
   "outputs": [],
   "source": [
    "len(candles)"
   ]
  },
  {
   "cell_type": "code",
   "execution_count": 21,
   "id": "27028ab5",
   "metadata": {},
   "outputs": [],
   "source": [
    "for candle in candles:\n",
    "    print(pendulum.from_timestamp(candle.mts/1000))\n",
    "    "
   ]
  },
  {
   "cell_type": "code",
   "execution_count": 22,
   "id": "f96cb6f5",
   "metadata": {},
   "outputs": [],
   "source": [
    "clear"
   ]
  },
  {
   "cell_type": "code",
   "execution_count": 23,
   "id": "041897f3",
   "metadata": {},
   "outputs": [],
   "source": [
    "candles = bfx.rest.public.get_candles_hist(symbol='tBTCUSD', start='1704145260000', end=end, sort=1, tf='1m')"
   ]
  },
  {
   "cell_type": "code",
   "execution_count": 24,
   "id": "5d1013ad",
   "metadata": {},
   "outputs": [],
   "source": [
    "for candle in candles:\n",
    "    print(pendulum.from_timestamp(candle.mts/1000))\n",
    "    "
   ]
  },
  {
   "cell_type": "code",
   "execution_count": 25,
   "id": "aa02271b",
   "metadata": {},
   "outputs": [],
   "source": [
    "pendulum.from_timestamp(1704145260)"
   ]
  },
  {
   "cell_type": "code",
   "execution_count": 26,
   "id": "70370709",
   "metadata": {},
   "outputs": [],
   "source": [
    "pendulum.from_timestamp(1704145260000)"
   ]
  },
  {
   "cell_type": "code",
   "execution_count": 27,
   "id": "1c42e85a",
   "metadata": {},
   "outputs": [],
   "source": [
    "pendulum.from_timestamp(1704145260)"
   ]
  },
  {
   "cell_type": "code",
   "execution_count": 28,
   "id": "3dd59b64",
   "metadata": {},
   "outputs": [],
   "source": [
    "clear"
   ]
  },
  {
   "cell_type": "code",
   "execution_count": 29,
   "id": "d5fd8e64",
   "metadata": {},
   "outputs": [],
   "source": [
    "for candle in candles:\n",
    "    print(pendulum.from_timestamp(candle.mts/1000))\n",
    "    "
   ]
  },
  {
   "cell_type": "code",
   "execution_count": 30,
   "id": "4b3a6138",
   "metadata": {},
   "outputs": [],
   "source": [
    "candles = bfx.rest.public.get_candles_hist(symbol='tBTCUSD', start='1704145260000', end=end, sort=1, tf='1m', limit=10000)"
   ]
  },
  {
   "cell_type": "code",
   "execution_count": 31,
   "id": "96e62327",
   "metadata": {},
   "outputs": [],
   "source": [
    "for candle in candles:\n",
    "    print(pendulum.from_timestamp(candle.mts/1000))\n",
    "    "
   ]
  },
  {
   "cell_type": "code",
   "execution_count": 32,
   "id": "53ca8e08",
   "metadata": {},
   "outputs": [],
   "source": [
    "len(candles)"
   ]
  },
  {
   "cell_type": "code",
   "execution_count": 33,
   "id": "be82a8fb",
   "metadata": {},
   "outputs": [],
   "source": [
    "candles = bfx.rest.public.get_candles_hist(symbol='tBTCUSD', start='1704145260000', end=end, sort=1, tf='1m', limit=40000)"
   ]
  }
 ],
 "metadata": {
  "kernelspec": {
   "display_name": "Python 3 (ipykernel)",
   "language": "python",
   "name": "python3"
  },
  "language_info": {
   "codemirror_mode": {
    "name": "ipython",
    "version": 3
   },
   "file_extension": ".py",
   "mimetype": "text/x-python",
   "name": "python",
   "nbconvert_exporter": "python",
   "pygments_lexer": "ipython3",
   "version": "3.11.0rc1"
  }
 },
 "nbformat": 4,
 "nbformat_minor": 5
}
