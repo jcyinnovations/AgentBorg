{
 "cells": [
  {
   "cell_type": "markdown",
   "id": "d1bd6c32",
   "metadata": {},
   "source": [
    "# Setup"
   ]
  },
  {
   "cell_type": "code",
   "execution_count": 1,
   "id": "448779f5",
   "metadata": {},
   "outputs": [],
   "source": [
    "from sqlmodel import SQLModel, create_engine, Field, Session\n",
    "from typing import Optional"
   ]
  },
  {
   "cell_type": "code",
   "execution_count": 3,
   "id": "041bf268",
   "metadata": {},
   "outputs": [],
   "source": [
    "sqlite_file_name = \"database.db\"\n",
    "sqlite_url = f\"sqlite:///{sqlite_file_name}\"\n",
    "engine = create_engine(sqlite_url)"
   ]
  },
  {
   "cell_type": "code",
   "execution_count": 6,
   "id": "23fd262c",
   "metadata": {},
   "outputs": [],
   "source": [
    "def create_db_and_tables():\n",
    "    SQLModel.metadata.create_all(engine)\n",
    "    "
   ]
  },
  {
   "cell_type": "markdown",
   "id": "9f565e09",
   "metadata": {},
   "source": [
    "# Product & Database Model"
   ]
  },
  {
   "cell_type": "code",
   "execution_count": 9,
   "id": "dc31634d",
   "metadata": {},
   "outputs": [],
   "source": [
    "class Product(SQLModel, table=True):\n",
    "    # Optional because if we use this field as auto id increment\n",
    "    # the value would be None before it gets to the database\n",
    "    id: Optional[int] = Field(default=None, primary_key=True, nullable=False)\n",
    "    store_id: int = Field()\n",
    "    store_name: str = Field(index=True)\n",
    "    title: str = Field()\n",
    "    handle: str = Field(nullable=True)\n",
    "    published: str = Field()\n",
    "    "
   ]
  },
  {
   "cell_type": "markdown",
   "id": "1d00fff9",
   "metadata": {},
   "source": [
    "# Main Execution"
   ]
  },
  {
   "cell_type": "code",
   "execution_count": 10,
   "id": "ef76c2d7",
   "metadata": {},
   "outputs": [],
   "source": [
    "create_db_and_tables()"
   ]
  },
  {
   "cell_type": "code",
   "execution_count": 11,
   "id": "53ae5708",
   "metadata": {},
   "outputs": [],
   "source": [
    "prod: Product = Product(store_id=100, store_name=\"JCY Innovations\", title=\"Hello World\", handle=\"HWorld\", published=\"2023\")"
   ]
  },
  {
   "cell_type": "code",
   "execution_count": 14,
   "id": "275a0760",
   "metadata": {},
   "outputs": [],
   "source": [
    "with Session(engine) as session:\n",
    "    from sqlmodel import select\n",
    "    statement = select(Product).where(Product.title == prod.title)\n",
    "    res = session.exec(statement)\n",
    "    if not res.first():\n",
    "        session.add(prod)\n",
    "        session.commit()\n",
    "        session.refresh(prod)\n",
    "        print(f\"added product {prod}\")\n",
    "        "
   ]
  },
  {
   "cell_type": "markdown",
   "id": "eca51ffa",
   "metadata": {},
   "source": [
    "# Save Notebook\n",
    "\n",
    "### Used from ipython to save the current execution history\n",
    "\n",
    "---"
   ]
  },
  {
   "cell_type": "code",
   "execution_count": 17,
   "id": "68cf0675",
   "metadata": {},
   "outputs": [],
   "source": [
    "%notebook myhistory.ipynb"
   ]
  }
 ],
 "metadata": {
  "language_info": {
   "name": "python"
  }
 },
 "nbformat": 4,
 "nbformat_minor": 5
}
