{
 "cells": [
  {
   "cell_type": "markdown",
   "id": "d1bd6c32",
   "metadata": {},
   "source": [
    "# Setup"
   ]
  },
  {
   "cell_type": "code",
   "execution_count": 1,
   "id": "448779f5",
   "metadata": {},
   "outputs": [],
   "source": [
    "from sqlmodel import SQLModel, create_engine, Field, Session\n",
    "from typing import Optional, List, Tuple, Any\n",
    "from datetime import datetime, timezone, timedelta\n",
    "import enum\n",
    "\n",
    "#sqlite_url = \"sqlite:///:memory:\"\n",
    "sqlite_url = \"sqlite:///TEST.db\"\n",
    "engine = create_engine(sqlite_url)"
   ]
  },
  {
   "cell_type": "code",
   "execution_count": 2,
   "id": "23fd262c",
   "metadata": {},
   "outputs": [],
   "source": [
    "def create_db_and_tables():\n",
    "    SQLModel.metadata.create_all(engine)\n",
    "\n",
    "class Asset(str, enum.Enum):\n",
    "    btcusd = \"btcusd\"\n",
    "    ethusd = \"ethusd\"\n",
    "\n",
    "class Action(int, enum.Enum):\n",
    "    SELL = 0\n",
    "    BUY = 1\n",
    "\n",
    "class Tick(SQLModel, table=True):\n",
    "    date: datetime = Field(primary_key=True, nullable=False)\n",
    "    asset: Asset = Field(primary_key=True, nullable=False)\n",
    "    o: float = Field(nullable=False)\n",
    "    h: float = Field(nullable=False)\n",
    "    l: float = Field(nullable=False)\n",
    "    c: float = Field(nullable=False)\n",
    "    v: float = Field(nullable=False)\n",
    "\n",
    "class Signal(SQLModel, table=True):\n",
    "    date: datetime = Field(primary_key=True, nullable=False)\n",
    "    asset: Asset = Field(primary_key=True, nullable=False)\n",
    "    probability: float = Field(nullable=False)\n",
    "    threshold: float = Field(nullable=False)\n",
    "    action: Action = Field(nullable=False)\n",
    "\n",
    "create_db_and_tables()"
   ]
  },
  {
   "cell_type": "markdown",
   "id": "1d00fff9",
   "metadata": {},
   "source": [
    "# Main Execution"
   ]
  },
  {
   "cell_type": "code",
   "execution_count": 3,
   "id": "53ae5708",
   "metadata": {},
   "outputs": [],
   "source": [
    "now = datetime.now()\n",
    "\n",
    "tick1: Tick = Tick(\n",
    "    date=now\n",
    "    , asset=Asset.btcusd\n",
    "    , o=1\n",
    "    , h=2\n",
    "    , l=3\n",
    "    , c=4\n",
    "    , v=5\n",
    ")\n",
    "\n",
    "signal1: Signal = Signal(\n",
    "    date=now\n",
    "    , asset=Asset.btcusd\n",
    "    , probability=0.58\n",
    "    , threshold=0.5\n",
    "    , action=1\n",
    ")\n",
    "\n",
    "signal2: Signal = Signal(\n",
    "    date=now\n",
    "    , asset=Asset.ethusd\n",
    "    , probability=0.75\n",
    "    , threshold=0.5\n",
    "    , action=1\n",
    ")\n"
   ]
  },
  {
   "cell_type": "code",
   "execution_count": 9,
   "id": "275a0760",
   "metadata": {},
   "outputs": [
    {
     "name": "stdout",
     "output_type": "stream",
     "text": [
      "action=<Action.BUY: 1> threshold=0.5 date=datetime.datetime(2024, 2, 29, 14, 16, 21, 970615) probability=0.58 asset=<Asset.btcusd: 'btcusd'>\n",
      "\n",
      "action=<Action.BUY: 1> threshold=0.5 date=datetime.datetime(2024, 2, 29, 14, 16, 21, 970615) probability=0.75 asset=<Asset.ethusd: 'ethusd'>\n"
     ]
    }
   ],
   "source": [
    "with Session(engine) as session:\n",
    "    session.add(tick1)\n",
    "    session.add(signal1)\n",
    "    session.add(signal2)\n",
    "    session.commit()\n",
    "    session.refresh(tick1)\n",
    "    session.refresh(signal1)\n",
    "    session.refresh(signal2)\n",
    "print(signal1)\n",
    "print()\n",
    "print(signal2)\n"
   ]
  },
  {
   "cell_type": "code",
   "execution_count": 11,
   "id": "a515d654-8b32-41b3-876c-fd0b6fbb5968",
   "metadata": {},
   "outputs": [
    {
     "name": "stdout",
     "output_type": "stream",
     "text": [
      "failed to commit signal3\n"
     ]
    }
   ],
   "source": [
    "signal3: Signal = Signal(\n",
    "    date=now\n",
    "    , asset=Asset.ethusd\n",
    "    , probability=0.75\n",
    "    , threshold=0.95\n",
    "    , action=0\n",
    ")\n",
    "\n",
    "try:\n",
    "    with Session(engine) as session:\n",
    "        session.add(signal3)\n",
    "        session.commit()\n",
    "        session.refresh(signal3)\n",
    "        print(signal3)\n",
    "except:\n",
    "    print('failed to commit signal3')\n"
   ]
  },
  {
   "cell_type": "markdown",
   "id": "651e2fa0-4b55-428e-af7e-0682402f4c4a",
   "metadata": {},
   "source": [
    "# Is `Classify_Future()` accurate?\n"
   ]
  },
  {
   "cell_type": "code",
   "execution_count": 6,
   "id": "9615ec84-08f8-44fd-98f4-31c37a4cb11d",
   "metadata": {},
   "outputs": [
    {
     "data": {
      "text/plain": [
       "(array([ 0.03 ,  0.025,  0.05 ,  0.04 ,  0.03 ,  0.03 ,  0.025, -0.05 ,\n",
       "         0.04 ,  0.03 ,  0.03 , -0.025,  0.05 ,  0.04 ,  0.03 ,  0.03 ,\n",
       "         0.025,  0.05 , -0.04 ,  0.03 ]),\n",
       " 20)"
      ]
     },
     "execution_count": 6,
     "metadata": {},
     "output_type": "execute_result"
    }
   ],
   "source": [
    "import pandas as pd\n",
    "import numpy as np\n",
    "\n",
    "def classify_future(\n",
    "    future_deltas\n",
    "    , max_trailing_loss=0.10\n",
    "    , min_expected_return=0.03\n",
    "):\n",
    "    trailing_loss = 0.0\n",
    "    pnl = 0.0\n",
    "    future_profiltable = False\n",
    "    stopped_out = False\n",
    "    trade_duration = 0\n",
    "    for delta in future_deltas:\n",
    "        trade_duration += 1\n",
    "        if trade_duration == 1:\n",
    "            pnl = 1 + delta\n",
    "            trailing_loss = delta\n",
    "        else:\n",
    "            new_pnl = pnl * (1 + delta)\n",
    "            trailing_loss = trailing_loss + (new_pnl - pnl)\n",
    "            pnl = new_pnl\n",
    "        if trailing_loss >= 0.0:\n",
    "            trailing_loss = 0.0\n",
    "        if abs(trailing_loss) >= abs(max_trailing_loss):\n",
    "            # Failed trade, sell position, stop trade\n",
    "            stopped_out = True\n",
    "            break\n",
    "    pnl = pnl - 1\n",
    "    future_profitable = pnl >= min_expected_return\n",
    "    return future_profitable, trade_duration, pnl, trailing_loss\n",
    "\n",
    "\n",
    "future_deltas = np.array([0.03 , 0.025, 0.05 , 0.04 , 0.03 , 0.03 , 0.025, -0.05 , 0.04 ,0.03 , 0.03 , -0.025, 0.05 , 0.04 , 0.03 , 0.03 , 0.025, 0.05 , -0.04 , 0.03 ])\n",
    "future_deltas, len(future_deltas)"
   ]
  },
  {
   "cell_type": "code",
   "execution_count": 10,
   "id": "04e59a41-c608-4fef-adf8-27c7f942790f",
   "metadata": {},
   "outputs": [
    {
     "name": "stdout",
     "output_type": "stream",
     "text": [
      "Profitable: True, Duration: 20.000, Profit: 0.580, Trailing Loss: -0.018\n"
     ]
    }
   ],
   "source": [
    "profitable, duration, pnl, drawdown = classify_future(future_deltas)\n",
    "\n",
    "print(f\"Profitable: {profitable}, Duration: {duration:.3f}, Profit: {pnl:.3f}, Trailing Loss: {drawdown:.3f}\")\n"
   ]
  },
  {
   "cell_type": "code",
   "execution_count": 7,
   "id": "68869371-6d3a-4a5a-9d8d-2309dc10c5c1",
   "metadata": {},
   "outputs": [
    {
     "name": "stdout",
     "output_type": "stream",
     "text": [
      "Simple Return: 0.470 \n",
      "Compound Return: 0.580\n"
     ]
    }
   ],
   "source": [
    "r_simple = np.sum(future_deltas)\n",
    "r_compound = np.prod(future_deltas + 1) - 1\n",
    "\n",
    "print(f\"Simple Return: {r_simple:.3f} \\nCompound Return: {r_compound:.3f}\")"
   ]
  },
  {
   "cell_type": "code",
   "execution_count": 8,
   "id": "0e6b4af0-4ffa-4847-8d74-0efe88e11f86",
   "metadata": {},
   "outputs": [
    {
     "name": "stdout",
     "output_type": "stream",
     "text": [
      "Simple Return: 0.940 \n",
      "Compound Return: 1.495\n"
     ]
    }
   ],
   "source": [
    "future2 = np.concatenate([future_deltas,future_deltas])\n",
    "\n",
    "r_simple = np.sum(future2)\n",
    "r_compound = np.prod(future2 + 1) - 1\n",
    "\n",
    "print(f\"Simple Return: {r_simple:.3f} \\nCompound Return: {r_compound:.3f}\")"
   ]
  },
  {
   "cell_type": "markdown",
   "id": "85d88a9a-0bb1-4dcf-bc78-df19f6be0fc9",
   "metadata": {},
   "source": [
    "# Updated Classify_Future()"
   ]
  },
  {
   "cell_type": "code",
   "execution_count": 13,
   "id": "4605a637-e845-463c-95fa-343b4e555642",
   "metadata": {},
   "outputs": [],
   "source": [
    "def classify_future_new(\n",
    "    future_deltas\n",
    "    , max_trailing_loss=0.10\n",
    "    , min_expected_return=0.03\n",
    "):\n",
    "    trailing_loss = 0.0\n",
    "    pnl = 0.0\n",
    "    future_profiltable = False\n",
    "    stopped_out = False\n",
    "    initial_value = 1\n",
    "    current_value = 1\n",
    "    trade_duration = 0\n",
    "    for delta in future_deltas:\n",
    "        trade_duration += 1\n",
    "        pnl = (1 + pnl) * (1 + delta) - 1\n",
    "        current_value = current_value * (1 + pnl)\n",
    "        trailing_loss = (current_value - initial_value)/initial_value\n",
    "        if trailing_loss >= 0.0:\n",
    "            trailing_loss = 0.0\n",
    "        if abs(trailing_loss) >= abs(max_trailing_loss):\n",
    "            # Failed trade, sell position, stop trade\n",
    "            stopped_out = True\n",
    "            break\n",
    "    future_profitable = pnl >= min_expected_return\n",
    "    return future_profitable, trade_duration, pnl, trailing_loss\n"
   ]
  },
  {
   "cell_type": "code",
   "execution_count": 14,
   "id": "760e65a3-b07e-48d4-87a9-8b9d7d726fc7",
   "metadata": {},
   "outputs": [
    {
     "name": "stdout",
     "output_type": "stream",
     "text": [
      "Profitable: True, Duration: 20.000, Profit: 0.580, Trailing Loss: 0.000\n"
     ]
    }
   ],
   "source": [
    "profitable, duration, pnl, drawdown = classify_future_new(future_deltas)\n",
    "\n",
    "print(f\"Profitable: {profitable}, Duration: {duration:.3f}, Profit: {pnl:.3f}, Trailing Loss: {drawdown:.3f}\")\n"
   ]
  },
  {
   "cell_type": "markdown",
   "id": "5ee3cfc1-2269-4824-9c8c-38b5b1774ab7",
   "metadata": {},
   "source": [
    "# Try new Function on real data"
   ]
  },
  {
   "cell_type": "code",
   "execution_count": 15,
   "id": "564240b1-7a3d-415f-a831-95edf5ecb337",
   "metadata": {},
   "outputs": [
    {
     "data": {
      "text/plain": [
       "Params(\n",
       "\tmax_holding_period: 1,\n",
       "\tmax_look_back_period: 18, \n",
       "\tvolatility_period: 7 \n",
       "\tmin_expected_return: 0.03, \n",
       "\tmax_trailing_loss: 0.1 \n",
       "\tsmas: {'s14': 672, 's50': 2400, 's100': 4800, 's350': 16800, 's700': 33600} \n",
       "\ttarget_fields: ['c', 's50', 's100', 's350', 's700', 'v', 'hv'] \n",
       "\tobservation_shape: (24, 36, 7),\n",
       "\tinterval: 30\n",
       "\tholding_period_in_T: 48,\n",
       "\tlook_back_period_in_T: 864,\n",
       "\tvolatility_period_in_T: 336,\n",
       ")"
      ]
     },
     "execution_count": 15,
     "metadata": {},
     "output_type": "execute_result"
    }
   ],
   "source": [
    "from utils import process_ticks, compute_latest_stats, generate_timesteps_from_ticks, predict_via_serving\n",
    "from utils import date_range, interval_infill, get_observation_v2, column_normalize, group_normalize, round_threshold\n",
    "\n",
    "from db import DBManager, Asset, Tick, Timestep, ENVIRONMENT, MANAGER_ERROR\n",
    "from hyperparameters import Params\n",
    "\n",
    "from datetime import datetime, timedelta, timezone\n",
    "from typing import List, Tuple, Any\n",
    "\n",
    "model_endpoint = \"http://192.168.50.61:8501/v1/models/model:predict\"\n",
    "acceptable_response_codes = [200]\n",
    "\n",
    "params: Params = Params()\n",
    "manager: DBManager = DBManager(environment=ENVIRONMENT.PREPROD)\n",
    "params"
   ]
  },
  {
   "cell_type": "code",
   "execution_count": 16,
   "id": "56af9884-0ba5-4ce1-9aca-5aef02015992",
   "metadata": {},
   "outputs": [],
   "source": [
    "start_date = datetime(2024, 1, 1, 17, 30, tzinfo=timezone.utc)\n",
    "inference_frame_start_date = start_date - timedelta(days=18)\n",
    "increment = timedelta(minutes=30)\n",
    "\n",
    "max_timesteps = 5000\n",
    "msg, timesteps = manager.get_historical_timesteps(start=inference_frame_start_date, frame_length=max_timesteps, asset=Asset.btcusd)"
   ]
  },
  {
   "cell_type": "code",
   "execution_count": null,
   "id": "dad5ec2f-5d2b-440a-a37d-afaddf8a4955",
   "metadata": {},
   "outputs": [],
   "source": []
  },
  {
   "cell_type": "code",
   "execution_count": null,
   "id": "19722d31-7b17-4ff7-a858-936bd0178416",
   "metadata": {},
   "outputs": [],
   "source": []
  },
  {
   "cell_type": "markdown",
   "id": "eca51ffa",
   "metadata": {},
   "source": [
    "# Save Notebook\n",
    "\n",
    "### Used from ipython to save the current execution history\n",
    "\n",
    "---"
   ]
  },
  {
   "cell_type": "code",
   "execution_count": null,
   "id": "68cf0675",
   "metadata": {},
   "outputs": [],
   "source": [
    "%notebook myhistory.ipynb"
   ]
  }
 ],
 "metadata": {
  "kernelspec": {
   "display_name": "Python 3 (ipykernel)",
   "language": "python",
   "name": "python3"
  },
  "language_info": {
   "codemirror_mode": {
    "name": "ipython",
    "version": 3
   },
   "file_extension": ".py",
   "mimetype": "text/x-python",
   "name": "python",
   "nbconvert_exporter": "python",
   "pygments_lexer": "ipython3",
   "version": "3.11.0rc1"
  }
 },
 "nbformat": 4,
 "nbformat_minor": 5
}
