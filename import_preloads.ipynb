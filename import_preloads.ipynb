{
 "cells": [
  {
   "cell_type": "code",
   "execution_count": 1,
   "id": "15255acb-f2e3-4a57-9fe6-ea04e984e9e9",
   "metadata": {},
   "outputs": [
    {
     "data": {
      "text/plain": [
       "'myhistory.ipynb'"
      ]
     },
     "execution_count": 1,
     "metadata": {},
     "output_type": "execute_result"
    }
   ],
   "source": [
    "import pickle\n",
    "import pandas as pd\n",
    "import numpy as np\n",
    "import os\n",
    "\n",
    "from db import DBManager, Asset, Tick, Timestep, ENVIRONMENT, MANAGER_ERROR\n",
    "from bitfinex import load_ticks\n",
    "from utils import process_ticks, compute_latest_stats, generate_timesteps_from_ticks\n",
    "\n",
    "def load_pickle(filename):\n",
    "    data = None\n",
    "    with open(filename, 'rb') as file:\n",
    "        data = pickle.load(file)\n",
    "    # close the file\n",
    "    file.close()\n",
    "    return data\n",
    "\n",
    "def to_datetime(date):\n",
    "    \"\"\"\n",
    "    Converts a numpy datetime64 object to a python datetime object \n",
    "    Input:\n",
    "      date - a np.datetime64 object\n",
    "    Output:\n",
    "      DATE - a python datetime object\n",
    "    \"\"\"\n",
    "    timestamp = ((date - np.datetime64('1970-01-01T00:00:00'))\n",
    "                 / np.timedelta64(1, 's'))\n",
    "    return datetime.utcfromtimestamp(timestamp)\n",
    "\n",
    "manager: DBManager = DBManager(environment=ENVIRONMENT.PREPROD)\n",
    "\n",
    "files = list(os.walk('./'))[0][2]\n",
    "files[11]"
   ]
  },
  {
   "cell_type": "code",
   "execution_count": null,
   "id": "7eb86008-9f8d-4634-ae45-5da974b3f254",
   "metadata": {},
   "outputs": [],
   "source": [
    "df = pd.read_pickle('./'+files[11])\n",
    "df.head()"
   ]
  },
  {
   "cell_type": "code",
   "execution_count": 2,
   "id": "dcba8a60-7f25-48f0-9587-dd5da8e98560",
   "metadata": {},
   "outputs": [
    {
     "data": {
      "text/plain": [
       "(<MANAGER_ERROR.SUCCESS: 0>,\n",
       " datetime.datetime(2024, 1, 1, 17, 41, tzinfo=Timezone('UTC')),\n",
       " datetime.datetime(2024, 1, 1, 17, 30, tzinfo=Timezone('UTC')))"
      ]
     },
     "execution_count": 2,
     "metadata": {},
     "output_type": "execute_result"
    }
   ],
   "source": [
    "#df.drop(columns=['ts'], inplace=True)\n",
    "#df['asset'] = 'btcusd'\n",
    "msg, last_tick, last_timestep = manager.get_latest_timestamp(asset = 'btcusd')\n",
    "\n",
    "msg, last_tick, last_timestep\n"
   ]
  },
  {
   "cell_type": "code",
   "execution_count": 3,
   "id": "f3034941-f321-4172-bb91-ff838c5c2b49",
   "metadata": {},
   "outputs": [],
   "source": [
    "from datetime import datetime\n",
    "msg, ticks = manager.get_ticks_after_last_timestep(latest_timestep_ts=last_timestep)"
   ]
  },
  {
   "cell_type": "code",
   "execution_count": 4,
   "id": "e17fa605-2a8d-4b45-8953-4b1033021eba",
   "metadata": {},
   "outputs": [
    {
     "data": {
      "text/html": [
       "<div>\n",
       "<style scoped>\n",
       "    .dataframe tbody tr th:only-of-type {\n",
       "        vertical-align: middle;\n",
       "    }\n",
       "\n",
       "    .dataframe tbody tr th {\n",
       "        vertical-align: top;\n",
       "    }\n",
       "\n",
       "    .dataframe thead th {\n",
       "        text-align: right;\n",
       "    }\n",
       "</style>\n",
       "<table border=\"1\" class=\"dataframe\">\n",
       "  <thead>\n",
       "    <tr style=\"text-align: right;\">\n",
       "      <th></th>\n",
       "      <th>date</th>\n",
       "      <th>o</th>\n",
       "      <th>h</th>\n",
       "      <th>l</th>\n",
       "      <th>c</th>\n",
       "      <th>v</th>\n",
       "      <th>asset</th>\n",
       "    </tr>\n",
       "  </thead>\n",
       "  <tbody>\n",
       "    <tr>\n",
       "      <th>0</th>\n",
       "      <td>2024-01-01 17:31:00</td>\n",
       "      <td>42799.0</td>\n",
       "      <td>42799.0</td>\n",
       "      <td>42789.0</td>\n",
       "      <td>42789.0</td>\n",
       "      <td>0.071000</td>\n",
       "      <td>Asset.btcusd</td>\n",
       "    </tr>\n",
       "    <tr>\n",
       "      <th>1</th>\n",
       "      <td>2024-01-01 17:32:00</td>\n",
       "      <td>42789.0</td>\n",
       "      <td>42796.0</td>\n",
       "      <td>42769.0</td>\n",
       "      <td>42769.0</td>\n",
       "      <td>1.139109</td>\n",
       "      <td>Asset.btcusd</td>\n",
       "    </tr>\n",
       "    <tr>\n",
       "      <th>2</th>\n",
       "      <td>2024-01-01 17:33:00</td>\n",
       "      <td>42762.0</td>\n",
       "      <td>42762.0</td>\n",
       "      <td>42762.0</td>\n",
       "      <td>42762.0</td>\n",
       "      <td>0.070000</td>\n",
       "      <td>Asset.btcusd</td>\n",
       "    </tr>\n",
       "    <tr>\n",
       "      <th>3</th>\n",
       "      <td>2024-01-01 17:34:00</td>\n",
       "      <td>42762.0</td>\n",
       "      <td>42764.0</td>\n",
       "      <td>42762.0</td>\n",
       "      <td>42764.0</td>\n",
       "      <td>0.070100</td>\n",
       "      <td>Asset.btcusd</td>\n",
       "    </tr>\n",
       "    <tr>\n",
       "      <th>4</th>\n",
       "      <td>2024-01-01 17:35:00</td>\n",
       "      <td>42769.0</td>\n",
       "      <td>42769.0</td>\n",
       "      <td>42769.0</td>\n",
       "      <td>42769.0</td>\n",
       "      <td>0.070000</td>\n",
       "      <td>Asset.btcusd</td>\n",
       "    </tr>\n",
       "  </tbody>\n",
       "</table>\n",
       "</div>"
      ],
      "text/plain": [
       "                 date        o        h        l        c         v  \\\n",
       "0 2024-01-01 17:31:00  42799.0  42799.0  42789.0  42789.0  0.071000   \n",
       "1 2024-01-01 17:32:00  42789.0  42796.0  42769.0  42769.0  1.139109   \n",
       "2 2024-01-01 17:33:00  42762.0  42762.0  42762.0  42762.0  0.070000   \n",
       "3 2024-01-01 17:34:00  42762.0  42764.0  42762.0  42764.0  0.070100   \n",
       "4 2024-01-01 17:35:00  42769.0  42769.0  42769.0  42769.0  0.070000   \n",
       "\n",
       "          asset  \n",
       "0  Asset.btcusd  \n",
       "1  Asset.btcusd  \n",
       "2  Asset.btcusd  \n",
       "3  Asset.btcusd  \n",
       "4  Asset.btcusd  "
      ]
     },
     "execution_count": 4,
     "metadata": {},
     "output_type": "execute_result"
    }
   ],
   "source": [
    "ticks.head()"
   ]
  },
  {
   "cell_type": "code",
   "execution_count": null,
   "id": "272c0962-55a2-4f1b-bafd-327b46a9f32f",
   "metadata": {},
   "outputs": [],
   "source": [
    "import pendulum\n",
    "\n",
    "utc = pendulum.timezone('utc')\n",
    "\n",
    "ticks['date'].iloc[0].timestamp(), last_timestep, last_timestep.timestamp(), utc.convert(last_timestep)"
   ]
  },
  {
   "cell_type": "code",
   "execution_count": null,
   "id": "89f34e1f-2e83-4143-ad19-680358b49f9c",
   "metadata": {},
   "outputs": [],
   "source": [
    "ticks['date'].iloc[0], ticks['date'].iloc[0].timestamp(), utc.convert(ticks['date'].iloc[0]).timestamp()"
   ]
  },
  {
   "cell_type": "code",
   "execution_count": null,
   "id": "e2c33bf6-cedd-41a4-a7c0-08bded7c4140",
   "metadata": {},
   "outputs": [],
   "source": [
    "df[df.duplicated()].head()"
   ]
  },
  {
   "cell_type": "code",
   "execution_count": null,
   "id": "5065e7cf-b50b-4116-8496-9486a8bd7224",
   "metadata": {},
   "outputs": [],
   "source": [
    "count = df[[d.to_pydatetime().timestamp() > last_tick.timestamp() for d in df.index]].to_sql(name='tick', con=manager.engine, if_exists='append')\n",
    "count"
   ]
  },
  {
   "cell_type": "code",
   "execution_count": 2,
   "id": "d992c6ad-0908-453c-b210-290595616f7b",
   "metadata": {},
   "outputs": [],
   "source": [
    "a = []\n",
    "\n",
    "a.extend([1])"
   ]
  },
  {
   "cell_type": "code",
   "execution_count": 4,
   "id": "b0120d92-61b7-4b9e-a54b-715baf1a48b6",
   "metadata": {},
   "outputs": [],
   "source": [
    "a.extend([2])"
   ]
  },
  {
   "cell_type": "code",
   "execution_count": 5,
   "id": "d92af02e-c5e1-443f-a16b-60f63f2c9dda",
   "metadata": {},
   "outputs": [
    {
     "data": {
      "text/plain": [
       "[1, 2]"
      ]
     },
     "execution_count": 5,
     "metadata": {},
     "output_type": "execute_result"
    }
   ],
   "source": [
    "a"
   ]
  },
  {
   "cell_type": "code",
   "execution_count": 6,
   "id": "d75cd7f2-209a-4b92-a200-eadf85d36b1b",
   "metadata": {},
   "outputs": [],
   "source": [
    "b = [{'a': 1, 'b': 3}, {'a': 11, 'b': 31}]\n"
   ]
  },
  {
   "cell_type": "code",
   "execution_count": 10,
   "id": "c3e89bc9-d7ca-4929-89c2-1d248a9b1f9e",
   "metadata": {},
   "outputs": [],
   "source": [
    "b_a = [i['a'] for i in b]\n"
   ]
  },
  {
   "cell_type": "code",
   "execution_count": 13,
   "id": "30a8b6c5-0688-4de5-ad1e-906f0432b01e",
   "metadata": {},
   "outputs": [
    {
     "data": {
      "text/plain": [
       "12"
      ]
     },
     "execution_count": 13,
     "metadata": {},
     "output_type": "execute_result"
    }
   ],
   "source": [
    "import numpy as np\n",
    "\n",
    "np.sum(b_a)"
   ]
  },
  {
   "cell_type": "code",
   "execution_count": 20,
   "id": "5156c002-127b-44a3-9bb7-9990bcf77807",
   "metadata": {},
   "outputs": [
    {
     "data": {
      "text/plain": [
       "True"
      ]
     },
     "execution_count": 20,
     "metadata": {},
     "output_type": "execute_result"
    }
   ],
   "source": [
    "not(100 % 10)"
   ]
  },
  {
   "cell_type": "code",
   "execution_count": 30,
   "id": "7ebb5a00-42c1-400a-9d57-188ad57c2002",
   "metadata": {},
   "outputs": [
    {
     "data": {
      "text/plain": [
       "'5,35'"
      ]
     },
     "execution_count": 30,
     "metadata": {},
     "output_type": "execute_result"
    }
   ],
   "source": [
    "\",\".join([str(int(i)+4) for i in \"1,31\".split(',')])"
   ]
  },
  {
   "cell_type": "code",
   "execution_count": 33,
   "id": "7f15ada9-53cb-4f1b-ba9c-d095411e6f9a",
   "metadata": {},
   "outputs": [
    {
     "data": {
      "text/plain": [
       "True"
      ]
     },
     "execution_count": 33,
     "metadata": {},
     "output_type": "execute_result"
    }
   ],
   "source": [
    "from datetime import datetime, timedelta\n",
    "\n",
    "now = datetime.now()\n",
    "then = now + timedelta(minutes=30)\n",
    "\n",
    "then - now > timedelta(minutes=29)"
   ]
  },
  {
   "cell_type": "code",
   "execution_count": 34,
   "id": "2f1c6322-a36f-4c9e-9e86-1e79914423e6",
   "metadata": {},
   "outputs": [],
   "source": [
    "import pandas as pd\n",
    "\n",
    "df = pd.DataFrame({'a': [i for i in range(100)], 'b': [i*3-10 for i in range(100)]})"
   ]
  },
  {
   "cell_type": "code",
   "execution_count": 35,
   "id": "e5e41ba2-5f78-43f2-a4e2-f1ceee934b53",
   "metadata": {},
   "outputs": [
    {
     "data": {
      "text/html": [
       "<div>\n",
       "<style scoped>\n",
       "    .dataframe tbody tr th:only-of-type {\n",
       "        vertical-align: middle;\n",
       "    }\n",
       "\n",
       "    .dataframe tbody tr th {\n",
       "        vertical-align: top;\n",
       "    }\n",
       "\n",
       "    .dataframe thead th {\n",
       "        text-align: right;\n",
       "    }\n",
       "</style>\n",
       "<table border=\"1\" class=\"dataframe\">\n",
       "  <thead>\n",
       "    <tr style=\"text-align: right;\">\n",
       "      <th></th>\n",
       "      <th>a</th>\n",
       "      <th>b</th>\n",
       "    </tr>\n",
       "  </thead>\n",
       "  <tbody>\n",
       "    <tr>\n",
       "      <th>0</th>\n",
       "      <td>0</td>\n",
       "      <td>-10</td>\n",
       "    </tr>\n",
       "    <tr>\n",
       "      <th>1</th>\n",
       "      <td>1</td>\n",
       "      <td>-7</td>\n",
       "    </tr>\n",
       "    <tr>\n",
       "      <th>2</th>\n",
       "      <td>2</td>\n",
       "      <td>-4</td>\n",
       "    </tr>\n",
       "    <tr>\n",
       "      <th>3</th>\n",
       "      <td>3</td>\n",
       "      <td>-1</td>\n",
       "    </tr>\n",
       "    <tr>\n",
       "      <th>4</th>\n",
       "      <td>4</td>\n",
       "      <td>2</td>\n",
       "    </tr>\n",
       "  </tbody>\n",
       "</table>\n",
       "</div>"
      ],
      "text/plain": [
       "   a   b\n",
       "0  0 -10\n",
       "1  1  -7\n",
       "2  2  -4\n",
       "3  3  -1\n",
       "4  4   2"
      ]
     },
     "execution_count": 35,
     "metadata": {},
     "output_type": "execute_result"
    }
   ],
   "source": [
    "df.head()"
   ]
  },
  {
   "cell_type": "code",
   "execution_count": 42,
   "id": "721ef9b1-84cc-4e78-9a92-6bf7469bdecd",
   "metadata": {},
   "outputs": [
    {
     "data": {
      "text/plain": [
       "(99, 99)"
      ]
     },
     "execution_count": 42,
     "metadata": {},
     "output_type": "execute_result"
    }
   ],
   "source": [
    "df.index[-1], df.iloc[-1]['a']"
   ]
  },
  {
   "cell_type": "code",
   "execution_count": 41,
   "id": "867da37d-a06d-4ef3-b865-987e684e1d5e",
   "metadata": {},
   "outputs": [
    {
     "data": {
      "text/html": [
       "<div>\n",
       "<style scoped>\n",
       "    .dataframe tbody tr th:only-of-type {\n",
       "        vertical-align: middle;\n",
       "    }\n",
       "\n",
       "    .dataframe tbody tr th {\n",
       "        vertical-align: top;\n",
       "    }\n",
       "\n",
       "    .dataframe thead th {\n",
       "        text-align: right;\n",
       "    }\n",
       "</style>\n",
       "<table border=\"1\" class=\"dataframe\">\n",
       "  <thead>\n",
       "    <tr style=\"text-align: right;\">\n",
       "      <th></th>\n",
       "      <th>a</th>\n",
       "      <th>b</th>\n",
       "    </tr>\n",
       "  </thead>\n",
       "  <tbody>\n",
       "    <tr>\n",
       "      <th>95</th>\n",
       "      <td>95</td>\n",
       "      <td>275</td>\n",
       "    </tr>\n",
       "    <tr>\n",
       "      <th>96</th>\n",
       "      <td>96</td>\n",
       "      <td>278</td>\n",
       "    </tr>\n",
       "    <tr>\n",
       "      <th>97</th>\n",
       "      <td>97</td>\n",
       "      <td>281</td>\n",
       "    </tr>\n",
       "    <tr>\n",
       "      <th>98</th>\n",
       "      <td>98</td>\n",
       "      <td>284</td>\n",
       "    </tr>\n",
       "    <tr>\n",
       "      <th>99</th>\n",
       "      <td>99</td>\n",
       "      <td>287</td>\n",
       "    </tr>\n",
       "  </tbody>\n",
       "</table>\n",
       "</div>"
      ],
      "text/plain": [
       "     a    b\n",
       "95  95  275\n",
       "96  96  278\n",
       "97  97  281\n",
       "98  98  284\n",
       "99  99  287"
      ]
     },
     "execution_count": 41,
     "metadata": {},
     "output_type": "execute_result"
    }
   ],
   "source": [
    "df.tail()"
   ]
  },
  {
   "cell_type": "code",
   "execution_count": null,
   "id": "1ae3f7c0-a2d9-4db7-ba4e-49bafbae9d50",
   "metadata": {},
   "outputs": [],
   "source": []
  }
 ],
 "metadata": {
  "kernelspec": {
   "display_name": "Python 3 (ipykernel)",
   "language": "python",
   "name": "python3"
  },
  "language_info": {
   "codemirror_mode": {
    "name": "ipython",
    "version": 3
   },
   "file_extension": ".py",
   "mimetype": "text/x-python",
   "name": "python",
   "nbconvert_exporter": "python",
   "pygments_lexer": "ipython3",
   "version": "3.11.0rc1"
  }
 },
 "nbformat": 4,
 "nbformat_minor": 5
}
